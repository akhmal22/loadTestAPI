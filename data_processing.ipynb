{
 "cells": [
  {
   "cell_type": "markdown",
   "id": "serious-helicopter",
   "metadata": {},
   "source": [
    "# Data Processing (daripada ribet pake xcel)"
   ]
  },
  {
   "cell_type": "markdown",
   "id": "trying-criminal",
   "metadata": {},
   "source": [
    "## Import all library needed"
   ]
  },
  {
   "cell_type": "code",
   "execution_count": 1,
   "id": "mental-anderson",
   "metadata": {},
   "outputs": [],
   "source": [
    "import pandas as pd\n",
    "import matplotlib.pyplot as plt\n",
    "import numpy as np"
   ]
  },
  {
   "cell_type": "markdown",
   "id": "australian-mixer",
   "metadata": {},
   "source": [
    "## Load all data to pandas dataframe"
   ]
  },
  {
   "cell_type": "code",
   "execution_count": 2,
   "id": "engaged-settlement",
   "metadata": {},
   "outputs": [],
   "source": [
    "fp_single = 'server/fpsingle.csv'\n",
    "fp_hundred = 'server/fphundred.csv'\n",
    "oop_single = 'server/oopsingle.csv'\n",
    "oop_hundred = 'server/oophundred.csv'\n",
    "throughput = 'throughput/throughput.csv'\n",
    "\n",
    "fp_single_data = pd.read_csv(fp_single)\n",
    "fp_hundred_data = pd.read_csv(fp_hundred)\n",
    "oop_single_data = pd.read_csv(oop_single)\n",
    "oop_hundred_data = pd.read_csv(oop_hundred)\n",
    "throughput_data = pd.read_csv(throughput)"
   ]
  },
  {
   "cell_type": "markdown",
   "id": "sustainable-chancellor",
   "metadata": {},
   "source": [
    "## Split server data based on method"
   ]
  },
  {
   "cell_type": "markdown",
   "id": "passing-priority",
   "metadata": {},
   "source": [
    "### fp_single"
   ]
  },
  {
   "cell_type": "code",
   "execution_count": 3,
   "id": "wrapped-karen",
   "metadata": {},
   "outputs": [],
   "source": [
    "fp_single_data_GET = fp_single_data[fp_single_data['Method']=='GET']\n",
    "fp_single_data_POST = fp_single_data[fp_single_data['Method']=='POST']\n",
    "fp_single_data_PUT = fp_single_data[fp_single_data['Method']=='PUT']\n",
    "fp_single_data_DELETE = fp_single_data[fp_single_data['Method']=='DELETE']"
   ]
  },
  {
   "cell_type": "markdown",
   "id": "ahead-dimension",
   "metadata": {},
   "source": [
    "### fp_hundred"
   ]
  },
  {
   "cell_type": "code",
   "execution_count": 4,
   "id": "muslim-chick",
   "metadata": {},
   "outputs": [],
   "source": [
    "fp_hundred_data_GET = fp_hundred_data[fp_hundred_data['Method']=='GET']\n",
    "fp_hundred_data_POST = fp_hundred_data[fp_hundred_data['Method']=='POST']\n",
    "fp_hundred_data_PUT = fp_hundred_data[fp_hundred_data['Method']=='PUT']\n",
    "fp_hundred_data_DELETE = fp_hundred_data[fp_hundred_data['Method']=='DELETE']"
   ]
  },
  {
   "cell_type": "markdown",
   "id": "basic-offense",
   "metadata": {},
   "source": [
    "### oop_single"
   ]
  },
  {
   "cell_type": "code",
   "execution_count": 5,
   "id": "greater-candy",
   "metadata": {},
   "outputs": [],
   "source": [
    "oop_single_data_GET = oop_single_data[oop_single_data['Method']=='GET']\n",
    "oop_single_data_POST = oop_single_data[oop_single_data['Method']=='POST']\n",
    "oop_single_data_PUT = oop_single_data[oop_single_data['Method']=='PUT']\n",
    "oop_single_data_DELETE = oop_single_data[oop_single_data['Method']=='DELETE']"
   ]
  },
  {
   "cell_type": "markdown",
   "id": "reserved-obligation",
   "metadata": {},
   "source": [
    "### oop_hundred"
   ]
  },
  {
   "cell_type": "code",
   "execution_count": 6,
   "id": "activated-crest",
   "metadata": {},
   "outputs": [],
   "source": [
    "oop_hundred_data_GET = oop_hundred_data[oop_hundred_data['Method']=='GET']\n",
    "oop_hundred_data_POST = oop_hundred_data[oop_hundred_data['Method']=='POST']\n",
    "oop_hundred_data_PUT = oop_hundred_data[oop_hundred_data['Method']=='PUT']\n",
    "oop_hundred_data_DELETE = oop_hundred_data[oop_hundred_data['Method']=='DELETE']"
   ]
  },
  {
   "cell_type": "markdown",
   "id": "loving-antarctica",
   "metadata": {},
   "source": [
    "## Count the Mean of every metrix available on Splitted data"
   ]
  },
  {
   "cell_type": "markdown",
   "id": "rural-immunology",
   "metadata": {},
   "source": [
    "### Time"
   ]
  },
  {
   "cell_type": "markdown",
   "id": "abroad-transmission",
   "metadata": {},
   "source": [
    "#### fp_single"
   ]
  },
  {
   "cell_type": "code",
   "execution_count": 7,
   "id": "suitable-joining",
   "metadata": {},
   "outputs": [],
   "source": [
    "fps_GET_mean_time = np.mean(fp_single_data_GET['Time'])\n",
    "fps_POST_mean_time = np.mean(fp_single_data_POST['Time'])\n",
    "fps_PUT_mean_time = np.mean(fp_single_data_PUT['Time'])\n",
    "fps_DELETE_mean_time = np.mean(fp_single_data_DELETE['Time'])"
   ]
  },
  {
   "cell_type": "markdown",
   "id": "monetary-nightmare",
   "metadata": {},
   "source": [
    "#### fp_hundred"
   ]
  },
  {
   "cell_type": "code",
   "execution_count": 8,
   "id": "enormous-antique",
   "metadata": {},
   "outputs": [],
   "source": [
    "fph_GET_mean_time = np.mean(fp_hundred_data_GET['Time'])\n",
    "fph_POST_mean_time = np.mean(fp_hundred_data_POST['Time'])\n",
    "fph_PUT_mean_time = np.mean(fp_hundred_data_PUT['Time'])\n",
    "fph_DELETE_mean_time = np.mean(fp_hundred_data_DELETE['Time'])"
   ]
  },
  {
   "cell_type": "markdown",
   "id": "norwegian-contractor",
   "metadata": {},
   "source": [
    "#### oop_single"
   ]
  },
  {
   "cell_type": "code",
   "execution_count": 9,
   "id": "stuck-initial",
   "metadata": {},
   "outputs": [],
   "source": [
    "oops_GET_mean_time = np.mean(oop_single_data_GET['Time'])\n",
    "oops_POST_mean_time = np.mean(oop_single_data_POST['Time'])\n",
    "oops_PUT_mean_time = np.mean(oop_single_data_PUT['Time'])\n",
    "oops_DELETE_mean_time = np.mean(oop_single_data_DELETE['Time'])"
   ]
  },
  {
   "cell_type": "markdown",
   "id": "existing-reward",
   "metadata": {},
   "source": [
    "#### oop_hundred"
   ]
  },
  {
   "cell_type": "code",
   "execution_count": 10,
   "id": "growing-audit",
   "metadata": {},
   "outputs": [],
   "source": [
    "ooph_GET_mean_time = np.mean(oop_hundred_data_GET['Time'])\n",
    "ooph_POST_mean_time = np.mean(oop_hundred_data_POST['Time'])\n",
    "ooph_PUT_mean_time = np.mean(oop_hundred_data_PUT['Time'])\n",
    "ooph_DELETE_mean_time = np.mean(oop_hundred_data_DELETE['Time'])"
   ]
  },
  {
   "cell_type": "markdown",
   "id": "happy-alexander",
   "metadata": {},
   "source": [
    "### Memory"
   ]
  },
  {
   "cell_type": "markdown",
   "id": "aquatic-chrome",
   "metadata": {},
   "source": [
    "#### fp_single"
   ]
  },
  {
   "cell_type": "code",
   "execution_count": 11,
   "id": "strong-smile",
   "metadata": {},
   "outputs": [],
   "source": [
    "fps_GET_mean_memory = np.mean(fp_single_data_GET['Memory'])\n",
    "fps_POST_mean_memory = np.mean(fp_single_data_POST['Memory'])\n",
    "fps_PUT_mean_memory = np.mean(fp_single_data_PUT['Memory'])\n",
    "fps_DELETE_mean_memory = np.mean(fp_single_data_DELETE['Memory'])"
   ]
  },
  {
   "cell_type": "markdown",
   "id": "decreased-norman",
   "metadata": {},
   "source": [
    "#### fp_hundred"
   ]
  },
  {
   "cell_type": "code",
   "execution_count": 12,
   "id": "useful-allergy",
   "metadata": {},
   "outputs": [],
   "source": [
    "fph_GET_mean_memory = np.mean(fp_hundred_data_GET['Memory'])\n",
    "fph_POST_mean_memory = np.mean(fp_hundred_data_POST['Memory'])\n",
    "fph_PUT_mean_memory = np.mean(fp_hundred_data_PUT['Memory'])\n",
    "fph_DELETE_mean_memory = np.mean(fp_hundred_data_DELETE['Memory'])"
   ]
  },
  {
   "cell_type": "markdown",
   "id": "welcome-processor",
   "metadata": {},
   "source": [
    "#### oop_single"
   ]
  },
  {
   "cell_type": "code",
   "execution_count": 13,
   "id": "stainless-fifth",
   "metadata": {},
   "outputs": [],
   "source": [
    "oops_GET_mean_memory = np.mean(oop_single_data_GET['Memory'])\n",
    "oops_POST_mean_memory = np.mean(oop_single_data_POST['Memory'])\n",
    "oops_PUT_mean_memory = np.mean(oop_single_data_PUT['Memory'])\n",
    "oops_DELETE_mean_memory = np.mean(oop_single_data_DELETE['Memory'])"
   ]
  },
  {
   "cell_type": "markdown",
   "id": "indian-camping",
   "metadata": {},
   "source": [
    "#### oop_hundred"
   ]
  },
  {
   "cell_type": "code",
   "execution_count": 14,
   "id": "israeli-fashion",
   "metadata": {},
   "outputs": [],
   "source": [
    "ooph_GET_mean_memory = np.mean(oop_hundred_data_GET['Memory'])\n",
    "ooph_POST_mean_memory = np.mean(oop_hundred_data_POST['Memory'])\n",
    "ooph_PUT_mean_memory = np.mean(oop_hundred_data_PUT['Memory'])\n",
    "ooph_DELETE_mean_memory = np.mean(oop_hundred_data_DELETE['Memory'])"
   ]
  },
  {
   "cell_type": "markdown",
   "id": "internal-philip",
   "metadata": {},
   "source": [
    "## Visualize Time "
   ]
  },
  {
   "cell_type": "markdown",
   "id": "cooked-documentation",
   "metadata": {},
   "source": [
    "### Declare label of x-axis"
   ]
  },
  {
   "cell_type": "code",
   "execution_count": 15,
   "id": "designed-producer",
   "metadata": {},
   "outputs": [],
   "source": [
    "paradigms = ('PF', 'PBO')\n",
    "y_pos = np.arange(len(paradigms))"
   ]
  },
  {
   "cell_type": "markdown",
   "id": "democratic-lambda",
   "metadata": {},
   "source": [
    "### Single User"
   ]
  },
  {
   "cell_type": "markdown",
   "id": "parliamentary-serial",
   "metadata": {},
   "source": [
    "#### GET"
   ]
  },
  {
   "cell_type": "code",
   "execution_count": 16,
   "id": "flexible-partner",
   "metadata": {},
   "outputs": [
    {
     "data": {
      "image/png": "[encoded data removed]",
      "text/plain": [
       "<Figure size 432x288 with 1 Axes>"
      ]
     },
     "metadata": {
      "needs_background": "light"
     },
     "output_type": "display_data"
    }
   ],
   "source": [
    "GET_time_single = [np.mean(fp_single_data_GET['Time']), np.mean(oop_single_data_GET['Time'])]\n",
    "\n",
    "plt.bar(y_pos, GET_time_single, align='center', alpha=0.5)\n",
    "plt.xticks(y_pos, paradigms)\n",
    "plt.ylabel('nanoseconds')\n",
    "plt.title('Execution Time (Mean)')\n",
    "\n",
    "plt.show()"
   ]
  },
  {
   "cell_type": "markdown",
   "id": "forty-essex",
   "metadata": {},
   "source": [
    "#### POST"
   ]
  },
  {
   "cell_type": "code",
   "execution_count": 17,
   "id": "greatest-demographic",
   "metadata": {},
   "outputs": [
    {
     "data": {
      "image/png": "[encoded data removed]",
      "text/plain": [
       "<Figure size 432x288 with 1 Axes>"
      ]
     },
     "metadata": {
      "needs_background": "light"
     },
     "output_type": "display_data"
    }
   ],
   "source": [
    "post_time_single = [np.mean(fp_single_data_POST['Time']), np.mean(oop_single_data_POST['Time'])]\n",
    "\n",
    "plt.bar(y_pos, post_time_single, align='center', alpha=0.5)\n",
    "plt.xticks(y_pos, paradigms)\n",
    "plt.ylabel('nanoseconds')\n",
    "plt.title('Execution Time (Mean)')\n",
    "\n",
    "plt.show()"
   ]
  },
  {
   "cell_type": "markdown",
   "id": "plain-louisville",
   "metadata": {},
   "source": [
    "#### PUT"
   ]
  },
  {
   "cell_type": "code",
   "execution_count": 18,
   "id": "similar-violation",
   "metadata": {},
   "outputs": [
    {
     "data": {
      "image/png": "[encoded data removed]",
      "text/plain": [
       "<Figure size 432x288 with 1 Axes>"
      ]
     },
     "metadata": {
      "needs_background": "light"
     },
     "output_type": "display_data"
    }
   ],
   "source": [
    "put_time_single = [np.mean(fp_single_data_PUT['Time']), np.mean(oop_single_data_PUT['Time'])]\n",
    "\n",
    "plt.bar(y_pos, put_time_single, align='center', alpha=0.5)\n",
    "plt.xticks(y_pos, paradigms)\n",
    "plt.ylabel('nanoseconds')\n",
    "plt.title('Execution Time (Mean)')\n",
    "\n",
    "plt.show()"
   ]
  },
  {
   "cell_type": "markdown",
   "id": "forbidden-people",
   "metadata": {},
   "source": [
    "#### DELETE"
   ]
  },
  {
   "cell_type": "code",
   "execution_count": 19,
   "id": "confused-daisy",
   "metadata": {},
   "outputs": [
    {
     "data": {
      "image/png": "[encoded data removed]",
      "text/plain": [
       "<Figure size 432x288 with 1 Axes>"
      ]
     },
     "metadata": {
      "needs_background": "light"
     },
     "output_type": "display_data"
    }
   ],
   "source": [
    "delete_time_single = [np.mean(fp_single_data_DELETE['Time']), np.mean(oop_single_data_DELETE['Time'])]\n",
    "\n",
    "plt.bar(y_pos, delete_time_single, align='center', alpha=0.5)\n",
    "plt.xticks(y_pos, paradigms)\n",
    "plt.ylabel('nanoseconds')\n",
    "plt.title('Execution Time (Mean)')\n",
    "\n",
    "plt.show()"
   ]
  },
  {
   "cell_type": "markdown",
   "id": "secure-plain",
   "metadata": {},
   "source": [
    "### Hundred User"
   ]
  },
  {
   "cell_type": "markdown",
   "id": "ahead-paragraph",
   "metadata": {},
   "source": [
    "#### GET"
   ]
  },
  {
   "cell_type": "code",
   "execution_count": 20,
   "id": "veterinary-harvey",
   "metadata": {},
   "outputs": [
    {
     "data": {
      "image/png": "[encoded data removed]",
      "text/plain": [
       "<Figure size 432x288 with 1 Axes>"
      ]
     },
     "metadata": {
      "needs_background": "light"
     },
     "output_type": "display_data"
    }
   ],
   "source": [
    "GET_time_hundred = [np.mean(fp_hundred_data_GET['Time']), np.mean(oop_hundred_data_GET['Time'])]\n",
    "\n",
    "plt.bar(y_pos, GET_time_hundred, align='center', alpha=0.5)\n",
    "plt.xticks(y_pos, paradigms)\n",
    "plt.ylabel('nanoseconds')\n",
    "plt.title('Execution Time (Mean)')\n",
    "\n",
    "plt.show()"
   ]
  },
  {
   "cell_type": "markdown",
   "id": "transparent-likelihood",
   "metadata": {},
   "source": [
    "#### POST"
   ]
  },
  {
   "cell_type": "code",
   "execution_count": 21,
   "id": "industrial-reserve",
   "metadata": {},
   "outputs": [
    {
     "data": {
      "image/png": "[encoded data removed]",
      "text/plain": [
       "<Figure size 432x288 with 1 Axes>"
      ]
     },
     "metadata": {
      "needs_background": "light"
     },
     "output_type": "display_data"
    }
   ],
   "source": [
    "POST_time_hundred = [np.mean(fp_hundred_data_POST['Time']), np.mean(oop_hundred_data_POST['Time'])]\n",
    "\n",
    "plt.bar(y_pos, POST_time_hundred, align='center', alpha=0.5)\n",
    "plt.xticks(y_pos, paradigms)\n",
    "plt.ylabel('nanoseconds')\n",
    "plt.title('Execution Time (Mean)')\n",
    "\n",
    "plt.show()"
   ]
  },
  {
   "cell_type": "markdown",
   "id": "ecological-trademark",
   "metadata": {},
   "source": [
    "#### PUT"
   ]
  },
  {
   "cell_type": "code",
   "execution_count": 22,
   "id": "binary-concert",
   "metadata": {},
   "outputs": [
    {
     "data": {
      "image/png": "[encoded data removed]",
      "text/plain": [
       "<Figure size 432x288 with 1 Axes>"
      ]
     },
     "metadata": {
      "needs_background": "light"
     },
     "output_type": "display_data"
    }
   ],
   "source": [
    "PUT_time_hundred = [np.mean(fp_hundred_data_PUT['Time']), np.mean(oop_hundred_data_PUT['Time'])]\n",
    "\n",
    "plt.bar(y_pos, PUT_time_hundred, align='center', alpha=0.5)\n",
    "plt.xticks(y_pos, paradigms)\n",
    "plt.ylabel('nanoseconds')\n",
    "plt.title('Execution Time (Mean)')\n",
    "\n",
    "plt.show()"
   ]
  },
  {
   "cell_type": "markdown",
   "id": "mighty-breathing",
   "metadata": {},
   "source": [
    "#### DELETE"
   ]
  },
  {
   "cell_type": "code",
   "execution_count": 23,
   "id": "representative-farming",
   "metadata": {},
   "outputs": [
    {
     "data": {
      "image/png": "[encoded data removed]",
      "text/plain": [
       "<Figure size 432x288 with 1 Axes>"
      ]
     },
     "metadata": {
      "needs_background": "light"
     },
     "output_type": "display_data"
    }
   ],
   "source": [
    "DELETE_time_hundred = [np.mean(fp_hundred_data_DELETE['Time']), np.mean(oop_hundred_data_DELETE['Time'])]\n",
    "\n",
    "plt.bar(y_pos, DELETE_time_hundred, align='center', alpha=0.5)\n",
    "plt.xticks(y_pos, paradigms)\n",
    "plt.ylabel('nanoseconds')\n",
    "plt.title('Execution Time (Mean)')\n",
    "\n",
    "plt.show()"
   ]
  },
  {
   "cell_type": "markdown",
   "id": "descending-bolivia",
   "metadata": {},
   "source": [
    "## Visualize Memory"
   ]
  },
  {
   "cell_type": "markdown",
   "id": "unable-telephone",
   "metadata": {},
   "source": [
    "### Single User"
   ]
  },
  {
   "cell_type": "markdown",
   "id": "pediatric-quantity",
   "metadata": {},
   "source": [
    "#### GET"
   ]
  },
  {
   "cell_type": "code",
   "execution_count": 24,
   "id": "transsexual-rendering",
   "metadata": {},
   "outputs": [
    {
     "data": {
      "image/png": "[encoded data removed]",
      "text/plain": [
       "<Figure size 432x288 with 1 Axes>"
      ]
     },
     "metadata": {
      "needs_background": "light"
     },
     "output_type": "display_data"
    }
   ],
   "source": [
    "GET_memory_single = [np.mean(fp_single_data_GET['Memory']), np.mean(oop_single_data_GET['Memory'])]\n",
    "\n",
    "plt.bar(y_pos, GET_memory_single, align='center', alpha=0.5)\n",
    "plt.xticks(y_pos, paradigms)\n",
    "plt.ylabel('bytes')\n",
    "plt.title(\"Memory Used (Mean)\")\n",
    "\n",
    "plt.show()"
   ]
  },
  {
   "cell_type": "markdown",
   "id": "sound-weight",
   "metadata": {},
   "source": [
    "#### POST"
   ]
  },
  {
   "cell_type": "code",
   "execution_count": 25,
   "id": "dynamic-boston",
   "metadata": {},
   "outputs": [
    {
     "data": {
      "image/png": "[encoded data removed]",
      "text/plain": [
       "<Figure size 432x288 with 1 Axes>"
      ]
     },
     "metadata": {
      "needs_background": "light"
     },
     "output_type": "display_data"
    }
   ],
   "source": [
    "POST_memory_single = [np.mean(fp_single_data_POST['Memory']), np.mean(oop_single_data_POST['Memory'])]\n",
    "\n",
    "plt.bar(y_pos, POST_memory_single, align='center', alpha=0.5)\n",
    "plt.xticks(y_pos, paradigms)\n",
    "plt.ylabel('bytes')\n",
    "plt.title(\"Memory Used (Mean)\")\n",
    "\n",
    "plt.show()"
   ]
  },
  {
   "cell_type": "markdown",
   "id": "british-sleep",
   "metadata": {},
   "source": [
    "#### PUT"
   ]
  },
  {
   "cell_type": "code",
   "execution_count": 26,
   "id": "french-photographer",
   "metadata": {},
   "outputs": [
    {
     "data": {
      "image/png": "[encoded data removed]",
      "text/plain": [
       "<Figure size 432x288 with 1 Axes>"
      ]
     },
     "metadata": {
      "needs_background": "light"
     },
     "output_type": "display_data"
    }
   ],
   "source": [
    "PUT_memory_single = [np.mean(fp_single_data_PUT['Memory']), np.mean(oop_single_data_PUT['Memory'])]\n",
    "\n",
    "plt.bar(y_pos, PUT_memory_single, align='center', alpha=0.5)\n",
    "plt.xticks(y_pos, paradigms)\n",
    "plt.ylabel('bytes')\n",
    "plt.title(\"Memory Used (Mean)\")\n",
    "\n",
    "plt.show()"
   ]
  },
  {
   "cell_type": "markdown",
   "id": "rising-glass",
   "metadata": {},
   "source": [
    "#### DELETE"
   ]
  },
  {
   "cell_type": "code",
   "execution_count": 27,
   "id": "absent-uncertainty",
   "metadata": {},
   "outputs": [
    {
     "data": {
      "image/png": "[encoded data removed]",
      "text/plain": [
       "<Figure size 432x288 with 1 Axes>"
      ]
     },
     "metadata": {
      "needs_background": "light"
     },
     "output_type": "display_data"
    }
   ],
   "source": [
    "DELETE_memory_single = [np.mean(fp_single_data_DELETE['Memory']), np.mean(oop_single_data_DELETE['Memory'])]\n",
    "\n",
    "plt.bar(y_pos, DELETE_memory_single, align='center', alpha=0.5)\n",
    "plt.xticks(y_pos, paradigms)\n",
    "plt.ylabel('bytes')\n",
    "plt.title('Memory Used')\n",
    "\n",
    "plt.show()"
   ]
  },
  {
   "cell_type": "markdown",
   "id": "perfect-garlic",
   "metadata": {},
   "source": [
    "### Hundred User"
   ]
  },
  {
   "cell_type": "markdown",
   "id": "adopted-settle",
   "metadata": {},
   "source": [
    "#### GET"
   ]
  },
  {
   "cell_type": "code",
   "execution_count": 28,
   "id": "initial-discussion",
   "metadata": {},
   "outputs": [
    {
     "data": {
      "image/png": "[encoded data removed]",
      "text/plain": [
       "<Figure size 432x288 with 1 Axes>"
      ]
     },
     "metadata": {
      "needs_background": "light"
     },
     "output_type": "display_data"
    }
   ],
   "source": [
    "GET_memory_hundred = [np.mean(fp_hundred_data_GET['Memory']), np.mean(oop_hundred_data_GET['Memory'])]\n",
    "\n",
    "plt.bar(y_pos, GET_memory_hundred, align='center', alpha=0.5)\n",
    "plt.xticks(y_pos, paradigms)\n",
    "plt.ylabel('bytes')\n",
    "plt.title('Memory Used (Mean)')\n",
    "\n",
    "plt.show()"
   ]
  },
  {
   "cell_type": "markdown",
   "id": "established-riding",
   "metadata": {},
   "source": [
    "#### POST"
   ]
  },
  {
   "cell_type": "code",
   "execution_count": 29,
   "id": "sufficient-focus",
   "metadata": {
    "scrolled": true
   },
   "outputs": [
    {
     "data": {
      "image/png": "[encoded data removed]",
      "text/plain": [
       "<Figure size 432x288 with 1 Axes>"
      ]
     },
     "metadata": {
      "needs_background": "light"
     },
     "output_type": "display_data"
    }
   ],
   "source": [
    "POST_memory_hundred = [np.mean(fp_hundred_data_POST['Memory']), np.mean(oop_hundred_data_POST['Memory'])]\n",
    "\n",
    "plt.bar(y_pos, POST_memory_hundred, align='center', alpha=0.5)\n",
    "plt.xticks(y_pos, paradigms)\n",
    "plt.ylabel('bytes')\n",
    "plt.title('Memory Used (Mean)')\n",
    "\n",
    "plt.show()"
   ]
  },
  {
   "cell_type": "markdown",
   "id": "appropriate-literacy",
   "metadata": {},
   "source": [
    "#### PUT"
   ]
  },
  {
   "cell_type": "code",
   "execution_count": 30,
   "id": "devoted-passion",
   "metadata": {},
   "outputs": [
    {
     "data": {
      "image/png": "[encoded data removed]",
      "text/plain": [
       "<Figure size 432x288 with 1 Axes>"
      ]
     },
     "metadata": {
      "needs_background": "light"
     },
     "output_type": "display_data"
    }
   ],
   "source": [
    "PUT_memory_hundred = [np.mean(fp_hundred_data_PUT['Memory']), np.mean(oop_hundred_data_PUT['Memory'])]\n",
    "\n",
    "plt.bar(y_pos, PUT_memory_hundred, align='center', alpha=0.5)\n",
    "plt.xticks(y_pos, paradigms)\n",
    "plt.ylabel('bytes')\n",
    "plt.title(\"Memory Used (Mean)\")\n",
    "\n",
    "plt.show()"
   ]
  },
  {
   "cell_type": "markdown",
   "id": "revised-payroll",
   "metadata": {},
   "source": [
    "#### DELETE"
   ]
  },
  {
   "cell_type": "code",
   "execution_count": 31,
   "id": "christian-filter",
   "metadata": {},
   "outputs": [
    {
     "data": {
      "image/png": "[encoded data removed]",
      "text/plain": [
       "<Figure size 432x288 with 1 Axes>"
      ]
     },
     "metadata": {
      "needs_background": "light"
     },
     "output_type": "display_data"
    }
   ],
   "source": [
    "DELETE_memory_hundred = [np.mean(fp_hundred_data_DELETE['Memory']), np.mean(oop_hundred_data_DELETE['Memory'])]\n",
    "\n",
    "plt.bar(y_pos, DELETE_memory_hundred, align='center', alpha=0.5)\n",
    "plt.xticks(y_pos, paradigms)\n",
    "plt.ylabel('bytes')\n",
    "plt.title('Memory Used (Mean)')\n",
    "\n",
    "plt.show()"
   ]
  },
  {
   "cell_type": "markdown",
   "id": "binary-angel",
   "metadata": {},
   "source": [
    "## Visualize Throughput"
   ]
  },
  {
   "cell_type": "markdown",
   "id": "sensitive-examination",
   "metadata": {},
   "source": [
    "### Single"
   ]
  },
  {
   "cell_type": "code",
   "execution_count": 32,
   "id": "level-coach",
   "metadata": {},
   "outputs": [],
   "source": [
    "throughput_single = throughput_data[throughput_data[\"user\"]==\"single\"]"
   ]
  },
  {
   "cell_type": "markdown",
   "id": "cooked-clear",
   "metadata": {},
   "source": [
    "#### GET"
   ]
  },
  {
   "cell_type": "code",
   "execution_count": 33,
   "id": "blind-forest",
   "metadata": {},
   "outputs": [
    {
     "data": {
      "image/png": "[encoded data removed]",
      "text/plain": [
       "<Figure size 432x288 with 1 Axes>"
      ]
     },
     "metadata": {
      "needs_background": "light"
     },
     "output_type": "display_data"
    }
   ],
   "source": [
    "throughput_single_GET = throughput_single[throughput_single[\"method\"]==\"GET\"]\n",
    "throughput_single_GET_arr = np.array(throughput_single_GET['throughput'])\n",
    "\n",
    "plt.bar(y_pos, throughput_single_GET_arr, align='center', alpha=0.5)\n",
    "plt.xticks(y_pos, paradigms)\n",
    "plt.ylabel('requests/s')\n",
    "plt.title('Throughput')\n",
    "\n",
    "plt.show()"
   ]
  },
  {
   "cell_type": "markdown",
   "id": "demographic-chorus",
   "metadata": {},
   "source": [
    "#### POST"
   ]
  },
  {
   "cell_type": "code",
   "execution_count": 34,
   "id": "iraqi-vietnam",
   "metadata": {},
   "outputs": [
    {
     "data": {
      "image/png": "[encoded data removed]",
      "text/plain": [
       "<Figure size 432x288 with 1 Axes>"
      ]
     },
     "metadata": {
      "needs_background": "light"
     },
     "output_type": "display_data"
    }
   ],
   "source": [
    "throughput_single_POST = throughput_single[throughput_single[\"method\"]==\"POST\"]\n",
    "throughput_single_POST_arr = np.array(throughput_single_POST['throughput'])\n",
    "\n",
    "plt.bar(y_pos, throughput_single_POST_arr, align='center', alpha=0.5)\n",
    "plt.xticks(y_pos, paradigms)\n",
    "plt.ylabel('requests/s')\n",
    "plt.title('Throughput')\n",
    "\n",
    "plt.show()"
   ]
  },
  {
   "cell_type": "markdown",
   "id": "english-artwork",
   "metadata": {},
   "source": [
    "#### PUT"
   ]
  },
  {
   "cell_type": "code",
   "execution_count": 35,
   "id": "polished-consideration",
   "metadata": {},
   "outputs": [
    {
     "data": {
      "image/png": "[encoded data removed]",
      "text/plain": [
       "<Figure size 432x288 with 1 Axes>"
      ]
     },
     "metadata": {
      "needs_background": "light"
     },
     "output_type": "display_data"
    }
   ],
   "source": [
    "throughput_single_PUT = throughput_single[throughput_single[\"method\"]==\"PUT\"]\n",
    "throughput_single_PUT_arr = np.array(throughput_single_PUT['throughput'])\n",
    "\n",
    "plt.bar(y_pos, throughput_single_PUT_arr, align='center', alpha=0.5)\n",
    "plt.xticks(y_pos, paradigms)\n",
    "plt.ylabel('requests/s')\n",
    "plt.title('Throughput')\n",
    "\n",
    "plt.show()"
   ]
  },
  {
   "cell_type": "markdown",
   "id": "approximate-suggestion",
   "metadata": {},
   "source": [
    "#### DELETE"
   ]
  },
  {
   "cell_type": "code",
   "execution_count": 36,
   "id": "strategic-liberal",
   "metadata": {},
   "outputs": [
    {
     "data": {
      "image/png": "[encoded data removed]",
      "text/plain": [
       "<Figure size 432x288 with 1 Axes>"
      ]
     },
     "metadata": {
      "needs_background": "light"
     },
     "output_type": "display_data"
    }
   ],
   "source": [
    "throughput_single_DELETE = throughput_single[throughput_single[\"method\"]==\"DELETE\"]\n",
    "throughput_single_DELETE_arr = np.array(throughput_single_DELETE['throughput'])\n",
    "\n",
    "plt.bar(y_pos, throughput_single_DELETE_arr, align='center', alpha=0.5)\n",
    "plt.xticks(y_pos, paradigms)\n",
    "plt.ylabel('requests/s')\n",
    "plt.title('Throughput')\n",
    "\n",
    "plt.show()"
   ]
  },
  {
   "cell_type": "markdown",
   "id": "foreign-hydrogen",
   "metadata": {},
   "source": [
    "### Hundred"
   ]
  },
  {
   "cell_type": "code",
   "execution_count": 37,
   "id": "flush-dollar",
   "metadata": {},
   "outputs": [],
   "source": [
    "throughput_hundred = throughput_data[throughput_data[\"user\"]==\"hundred\"]"
   ]
  },
  {
   "cell_type": "markdown",
   "id": "angry-reconstruction",
   "metadata": {},
   "source": [
    "#### GET"
   ]
  },
  {
   "cell_type": "code",
   "execution_count": 38,
   "id": "ethical-relevance",
   "metadata": {},
   "outputs": [
    {
     "data": {
      "image/png": "[encoded data removed]",
      "text/plain": [
       "<Figure size 432x288 with 1 Axes>"
      ]
     },
     "metadata": {
      "needs_background": "light"
     },
     "output_type": "display_data"
    }
   ],
   "source": [
    "throughput_hundred_GET = throughput_hundred[throughput_hundred[\"method\"]==\"GET\"]\n",
    "throughput_hundred_GET_arr = np.array(throughput_hundred_GET['throughput'])\n",
    "\n",
    "plt.bar(y_pos, throughput_hundred_GET_arr, align='center', alpha=0.5)\n",
    "plt.xticks(y_pos, paradigms)\n",
    "plt.ylabel('requests/s')\n",
    "plt.title('Throughput')\n",
    "\n",
    "plt.show()"
   ]
  },
  {
   "cell_type": "markdown",
   "id": "chemical-entrance",
   "metadata": {},
   "source": [
    "#### POST"
   ]
  },
  {
   "cell_type": "code",
   "execution_count": 39,
   "id": "mathematical-compromise",
   "metadata": {},
   "outputs": [
    {
     "data": {
      "image/png": "[encoded data removed]",
      "text/plain": [
       "<Figure size 432x288 with 1 Axes>"
      ]
     },
     "metadata": {
      "needs_background": "light"
     },
     "output_type": "display_data"
    }
   ],
   "source": [
    "throughput_hundred_POST = throughput_hundred[throughput_hundred[\"method\"]==\"POST\"]\n",
    "throughput_hundred_POST_arr = np.array(throughput_hundred_POST['throughput'])\n",
    "\n",
    "plt.bar(y_pos, throughput_hundred_POST_arr, align='center', alpha=0.5)\n",
    "plt.xticks(y_pos, paradigms)\n",
    "plt.ylabel('requests/s')\n",
    "plt.title('Throughput')\n",
    "\n",
    "plt.show()"
   ]
  },
  {
   "cell_type": "markdown",
   "id": "musical-posting",
   "metadata": {},
   "source": [
    "#### PUT"
   ]
  },
  {
   "cell_type": "code",
   "execution_count": 40,
   "id": "local-exception",
   "metadata": {},
   "outputs": [
    {
     "data": {
      "image/png": "[encoded data removed]",
      "text/plain": [
       "<Figure size 432x288 with 1 Axes>"
      ]
     },
     "metadata": {
      "needs_background": "light"
     },
     "output_type": "display_data"
    }
   ],
   "source": [
    "throughput_hundred_PUT = throughput_hundred[throughput_hundred[\"method\"]==\"PUT\"]\n",
    "throughput_hundred_PUT_arr = np.array(throughput_hundred_PUT['throughput'])\n",
    "\n",
    "plt.bar(y_pos, throughput_hundred_PUT_arr, align='center', alpha=0.5)\n",
    "plt.xticks(y_pos, paradigms)\n",
    "plt.ylabel('requests/s')\n",
    "plt.title('Throughput')\n",
    "\n",
    "plt.show()"
   ]
  },
  {
   "cell_type": "markdown",
   "id": "premium-found",
   "metadata": {},
   "source": [
    "#### DELETE"
   ]
  },
  {
   "cell_type": "code",
   "execution_count": 41,
   "id": "arabic-edwards",
   "metadata": {},
   "outputs": [
    {
     "data": {
      "image/png": "[encoded data removed]",
      "text/plain": [
       "<Figure size 432x288 with 1 Axes>"
      ]
     },
     "metadata": {
      "needs_background": "light"
     },
     "output_type": "display_data"
    }
   ],
   "source": [
    "throughput_hundred_DELETE = throughput_hundred[throughput_hundred[\"method\"]==\"DELETE\"]\n",
    "throughput_hundred_DELETE_arr = np.array(throughput_hundred_DELETE['throughput'])\n",
    "\n",
    "plt.bar(y_pos, throughput_hundred_DELETE_arr, align='center', alpha=0.5)\n",
    "plt.xticks(y_pos, paradigms)\n",
    "plt.ylabel('requests/s')\n",
    "plt.title('Throughput')\n",
    "\n",
    "plt.show()"
   ]
  },
  {
   "cell_type": "code",
   "execution_count": null,
   "id": "apart-anxiety",
   "metadata": {},
   "outputs": [],
   "source": []
  }
 ],
 "metadata": {
  "kernelspec": {
   "display_name": "Python 3",
   "language": "python",
   "name": "python3"
  },
  "language_info": {
   "codemirror_mode": {
    "name": "ipython",
    "version": 3
   },
   "file_extension": ".py",
   "mimetype": "text/x-python",
   "name": "python",
   "nbconvert_exporter": "python",
   "pygments_lexer": "ipython3",
   "version": "3.9.1"
  }
 },
 "nbformat": 4,
 "nbformat_minor": 5
}
